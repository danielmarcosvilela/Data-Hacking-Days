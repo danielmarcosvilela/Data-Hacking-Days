{
 "cells": [
  {
   "cell_type": "code",
   "execution_count": 27,
   "id": "e757901c",
   "metadata": {},
   "outputs": [],
   "source": [
    "import numpy as np\n",
    "import pandas as pd\n",
    "import matplotlib as mat\n",
    "import matplotlib.pyplot as plt\n",
    "import colorsys\n",
    "plt.style.use('seaborn-talk')\n",
    "import warnings\n",
    "warnings.filterwarnings(\"ignore\")\n",
    "%matplotlib inline"
   ]
  },
  {
   "cell_type": "code",
   "execution_count": 28,
   "id": "89a86410",
   "metadata": {},
   "outputs": [],
   "source": [
    "df = pd.read_csv('arquivos-de-dados_tb-base-perfil-digital.csv',error_bad_lines=False, sep=\",\")"
   ]
  },
  {
   "cell_type": "code",
   "execution_count": 29,
   "id": "f0964883",
   "metadata": {},
   "outputs": [
    {
     "data": {
      "text/html": [
       "<div>\n",
       "<style scoped>\n",
       "    .dataframe tbody tr th:only-of-type {\n",
       "        vertical-align: middle;\n",
       "    }\n",
       "\n",
       "    .dataframe tbody tr th {\n",
       "        vertical-align: top;\n",
       "    }\n",
       "\n",
       "    .dataframe thead th {\n",
       "        text-align: right;\n",
       "    }\n",
       "</style>\n",
       "<table border=\"1\" class=\"dataframe\">\n",
       "  <thead>\n",
       "    <tr style=\"text-align: right;\">\n",
       "      <th></th>\n",
       "      <th>osu_dt_posicao</th>\n",
       "      <th>tbmd_ds_score_digital</th>\n",
       "      <th>tcac_id_contaori</th>\n",
       "    </tr>\n",
       "  </thead>\n",
       "  <tbody>\n",
       "    <tr>\n",
       "      <th>0</th>\n",
       "      <td>202110</td>\n",
       "      <td>1 - Não Digital</td>\n",
       "      <td>Wu6T3o4KLgMfLGkUkYT5EbTVc2KvK/YJOkeW4HKzge0=</td>\n",
       "    </tr>\n",
       "    <tr>\n",
       "      <th>1</th>\n",
       "      <td>202110</td>\n",
       "      <td>1 - Não Digital</td>\n",
       "      <td>qBQK0wp9FHxNeMeIQLb8ceA8GsmodZs80dGblUlR9Uc=</td>\n",
       "    </tr>\n",
       "    <tr>\n",
       "      <th>2</th>\n",
       "      <td>202110</td>\n",
       "      <td>1 - Não Digital</td>\n",
       "      <td>66ZmOfRquw/Qz5lesdMWOxcyD2VuAjENvkbFw/SLgIM=</td>\n",
       "    </tr>\n",
       "    <tr>\n",
       "      <th>3</th>\n",
       "      <td>202110</td>\n",
       "      <td>1 - Não Digital</td>\n",
       "      <td>Po/PiNvObiebusHdGwC11ltC0OHKdRToWXbimXNjZa4=</td>\n",
       "    </tr>\n",
       "    <tr>\n",
       "      <th>4</th>\n",
       "      <td>202110</td>\n",
       "      <td>1 - Não Digital</td>\n",
       "      <td>Wy9aTxDQLBVIC9oIRPvO2GuSGe+PmcPm5rR/LdsDSsg=</td>\n",
       "    </tr>\n",
       "    <tr>\n",
       "      <th>...</th>\n",
       "      <td>...</td>\n",
       "      <td>...</td>\n",
       "      <td>...</td>\n",
       "    </tr>\n",
       "    <tr>\n",
       "      <th>149995</th>\n",
       "      <td>202110</td>\n",
       "      <td>2 - Ocasionalmente Digital</td>\n",
       "      <td>l8P7V5DPfujla1Z04s49hKY+hHfKx2lLXFRc8dka10o=</td>\n",
       "    </tr>\n",
       "    <tr>\n",
       "      <th>149996</th>\n",
       "      <td>202110</td>\n",
       "      <td>2 - Ocasionalmente Digital</td>\n",
       "      <td>eutIsT85eydK+q06x2wVXwXXJ58q74+UtLl+01aacQw=</td>\n",
       "    </tr>\n",
       "    <tr>\n",
       "      <th>149997</th>\n",
       "      <td>202110</td>\n",
       "      <td>2 - Ocasionalmente Digital</td>\n",
       "      <td>WgYUDl1I6DBNVoZWyzwiWwR4Ua85X72bu1Liz9+IlE0=</td>\n",
       "    </tr>\n",
       "    <tr>\n",
       "      <th>149998</th>\n",
       "      <td>202110</td>\n",
       "      <td>2 - Ocasionalmente Digital</td>\n",
       "      <td>RMgWPm/MI6JWdHy+uW47PQmKbIr7DtudxHFwTCMYmr4=</td>\n",
       "    </tr>\n",
       "    <tr>\n",
       "      <th>149999</th>\n",
       "      <td>202110</td>\n",
       "      <td>2 - Ocasionalmente Digital</td>\n",
       "      <td>ru5wPDCwWkUK0Zfq0ToQvFz1BeSjWL6b+NtO05dMnYE=</td>\n",
       "    </tr>\n",
       "  </tbody>\n",
       "</table>\n",
       "<p>150000 rows × 3 columns</p>\n",
       "</div>"
      ],
      "text/plain": [
       "        osu_dt_posicao       tbmd_ds_score_digital  \\\n",
       "0               202110             1 - Não Digital   \n",
       "1               202110             1 - Não Digital   \n",
       "2               202110             1 - Não Digital   \n",
       "3               202110             1 - Não Digital   \n",
       "4               202110             1 - Não Digital   \n",
       "...                ...                         ...   \n",
       "149995          202110  2 - Ocasionalmente Digital   \n",
       "149996          202110  2 - Ocasionalmente Digital   \n",
       "149997          202110  2 - Ocasionalmente Digital   \n",
       "149998          202110  2 - Ocasionalmente Digital   \n",
       "149999          202110  2 - Ocasionalmente Digital   \n",
       "\n",
       "                                    tcac_id_contaori  \n",
       "0       Wu6T3o4KLgMfLGkUkYT5EbTVc2KvK/YJOkeW4HKzge0=  \n",
       "1       qBQK0wp9FHxNeMeIQLb8ceA8GsmodZs80dGblUlR9Uc=  \n",
       "2       66ZmOfRquw/Qz5lesdMWOxcyD2VuAjENvkbFw/SLgIM=  \n",
       "3       Po/PiNvObiebusHdGwC11ltC0OHKdRToWXbimXNjZa4=  \n",
       "4       Wy9aTxDQLBVIC9oIRPvO2GuSGe+PmcPm5rR/LdsDSsg=  \n",
       "...                                              ...  \n",
       "149995  l8P7V5DPfujla1Z04s49hKY+hHfKx2lLXFRc8dka10o=  \n",
       "149996  eutIsT85eydK+q06x2wVXwXXJ58q74+UtLl+01aacQw=  \n",
       "149997  WgYUDl1I6DBNVoZWyzwiWwR4Ua85X72bu1Liz9+IlE0=  \n",
       "149998  RMgWPm/MI6JWdHy+uW47PQmKbIr7DtudxHFwTCMYmr4=  \n",
       "149999  ru5wPDCwWkUK0Zfq0ToQvFz1BeSjWL6b+NtO05dMnYE=  \n",
       "\n",
       "[150000 rows x 3 columns]"
      ]
     },
     "execution_count": 29,
     "metadata": {},
     "output_type": "execute_result"
    }
   ],
   "source": [
    "df"
   ]
  },
  {
   "cell_type": "code",
   "execution_count": 30,
   "id": "da881be6",
   "metadata": {},
   "outputs": [],
   "source": [
    "df = df.rename(columns={\"osu_dt_posicao\":\"10/2021\", \"tbmd_ds_score_digital\": \"SCORE_DIGITAL\",\"tcac_id_contaori\":\"NUMERO_CONTA\"})"
   ]
  },
  {
   "cell_type": "code",
   "execution_count": 31,
   "id": "c1a85bca",
   "metadata": {},
   "outputs": [
    {
     "data": {
      "text/html": [
       "<div>\n",
       "<style scoped>\n",
       "    .dataframe tbody tr th:only-of-type {\n",
       "        vertical-align: middle;\n",
       "    }\n",
       "\n",
       "    .dataframe tbody tr th {\n",
       "        vertical-align: top;\n",
       "    }\n",
       "\n",
       "    .dataframe thead th {\n",
       "        text-align: right;\n",
       "    }\n",
       "</style>\n",
       "<table border=\"1\" class=\"dataframe\">\n",
       "  <thead>\n",
       "    <tr style=\"text-align: right;\">\n",
       "      <th></th>\n",
       "      <th>10/2021</th>\n",
       "      <th>SCORE_DIGITAL</th>\n",
       "      <th>NUMERO_CONTA</th>\n",
       "    </tr>\n",
       "  </thead>\n",
       "  <tbody>\n",
       "    <tr>\n",
       "      <th>0</th>\n",
       "      <td>202110</td>\n",
       "      <td>1 - Não Digital</td>\n",
       "      <td>Wu6T3o4KLgMfLGkUkYT5EbTVc2KvK/YJOkeW4HKzge0=</td>\n",
       "    </tr>\n",
       "    <tr>\n",
       "      <th>1</th>\n",
       "      <td>202110</td>\n",
       "      <td>1 - Não Digital</td>\n",
       "      <td>qBQK0wp9FHxNeMeIQLb8ceA8GsmodZs80dGblUlR9Uc=</td>\n",
       "    </tr>\n",
       "    <tr>\n",
       "      <th>2</th>\n",
       "      <td>202110</td>\n",
       "      <td>1 - Não Digital</td>\n",
       "      <td>66ZmOfRquw/Qz5lesdMWOxcyD2VuAjENvkbFw/SLgIM=</td>\n",
       "    </tr>\n",
       "    <tr>\n",
       "      <th>3</th>\n",
       "      <td>202110</td>\n",
       "      <td>1 - Não Digital</td>\n",
       "      <td>Po/PiNvObiebusHdGwC11ltC0OHKdRToWXbimXNjZa4=</td>\n",
       "    </tr>\n",
       "    <tr>\n",
       "      <th>4</th>\n",
       "      <td>202110</td>\n",
       "      <td>1 - Não Digital</td>\n",
       "      <td>Wy9aTxDQLBVIC9oIRPvO2GuSGe+PmcPm5rR/LdsDSsg=</td>\n",
       "    </tr>\n",
       "    <tr>\n",
       "      <th>...</th>\n",
       "      <td>...</td>\n",
       "      <td>...</td>\n",
       "      <td>...</td>\n",
       "    </tr>\n",
       "    <tr>\n",
       "      <th>149995</th>\n",
       "      <td>202110</td>\n",
       "      <td>2 - Ocasionalmente Digital</td>\n",
       "      <td>l8P7V5DPfujla1Z04s49hKY+hHfKx2lLXFRc8dka10o=</td>\n",
       "    </tr>\n",
       "    <tr>\n",
       "      <th>149996</th>\n",
       "      <td>202110</td>\n",
       "      <td>2 - Ocasionalmente Digital</td>\n",
       "      <td>eutIsT85eydK+q06x2wVXwXXJ58q74+UtLl+01aacQw=</td>\n",
       "    </tr>\n",
       "    <tr>\n",
       "      <th>149997</th>\n",
       "      <td>202110</td>\n",
       "      <td>2 - Ocasionalmente Digital</td>\n",
       "      <td>WgYUDl1I6DBNVoZWyzwiWwR4Ua85X72bu1Liz9+IlE0=</td>\n",
       "    </tr>\n",
       "    <tr>\n",
       "      <th>149998</th>\n",
       "      <td>202110</td>\n",
       "      <td>2 - Ocasionalmente Digital</td>\n",
       "      <td>RMgWPm/MI6JWdHy+uW47PQmKbIr7DtudxHFwTCMYmr4=</td>\n",
       "    </tr>\n",
       "    <tr>\n",
       "      <th>149999</th>\n",
       "      <td>202110</td>\n",
       "      <td>2 - Ocasionalmente Digital</td>\n",
       "      <td>ru5wPDCwWkUK0Zfq0ToQvFz1BeSjWL6b+NtO05dMnYE=</td>\n",
       "    </tr>\n",
       "  </tbody>\n",
       "</table>\n",
       "<p>150000 rows × 3 columns</p>\n",
       "</div>"
      ],
      "text/plain": [
       "        10/2021               SCORE_DIGITAL  \\\n",
       "0        202110             1 - Não Digital   \n",
       "1        202110             1 - Não Digital   \n",
       "2        202110             1 - Não Digital   \n",
       "3        202110             1 - Não Digital   \n",
       "4        202110             1 - Não Digital   \n",
       "...         ...                         ...   \n",
       "149995   202110  2 - Ocasionalmente Digital   \n",
       "149996   202110  2 - Ocasionalmente Digital   \n",
       "149997   202110  2 - Ocasionalmente Digital   \n",
       "149998   202110  2 - Ocasionalmente Digital   \n",
       "149999   202110  2 - Ocasionalmente Digital   \n",
       "\n",
       "                                        NUMERO_CONTA  \n",
       "0       Wu6T3o4KLgMfLGkUkYT5EbTVc2KvK/YJOkeW4HKzge0=  \n",
       "1       qBQK0wp9FHxNeMeIQLb8ceA8GsmodZs80dGblUlR9Uc=  \n",
       "2       66ZmOfRquw/Qz5lesdMWOxcyD2VuAjENvkbFw/SLgIM=  \n",
       "3       Po/PiNvObiebusHdGwC11ltC0OHKdRToWXbimXNjZa4=  \n",
       "4       Wy9aTxDQLBVIC9oIRPvO2GuSGe+PmcPm5rR/LdsDSsg=  \n",
       "...                                              ...  \n",
       "149995  l8P7V5DPfujla1Z04s49hKY+hHfKx2lLXFRc8dka10o=  \n",
       "149996  eutIsT85eydK+q06x2wVXwXXJ58q74+UtLl+01aacQw=  \n",
       "149997  WgYUDl1I6DBNVoZWyzwiWwR4Ua85X72bu1Liz9+IlE0=  \n",
       "149998  RMgWPm/MI6JWdHy+uW47PQmKbIr7DtudxHFwTCMYmr4=  \n",
       "149999  ru5wPDCwWkUK0Zfq0ToQvFz1BeSjWL6b+NtO05dMnYE=  \n",
       "\n",
       "[150000 rows x 3 columns]"
      ]
     },
     "execution_count": 31,
     "metadata": {},
     "output_type": "execute_result"
    }
   ],
   "source": [
    "df"
   ]
  },
  {
   "cell_type": "code",
   "execution_count": 32,
   "id": "6757dfb0",
   "metadata": {},
   "outputs": [
    {
     "data": {
      "text/plain": [
       "10/2021           int64\n",
       "SCORE_DIGITAL    object\n",
       "NUMERO_CONTA     object\n",
       "dtype: object"
      ]
     },
     "execution_count": 32,
     "metadata": {},
     "output_type": "execute_result"
    }
   ],
   "source": [
    "df.dtypes"
   ]
  },
  {
   "cell_type": "code",
   "execution_count": 34,
   "id": "908e471b",
   "metadata": {},
   "outputs": [
    {
     "data": {
      "text/plain": [
       "SCORE_DIGITAL\n",
       "1 - Não Digital               14119202490\n",
       "2 - Ocasionalmente Digital    10662110940\n",
       "3 - Explorador Digital         3699219330\n",
       "4 - Digital em ascensão        1835967240\n",
       "Name: 10/2021, dtype: int64"
      ]
     },
     "execution_count": 34,
     "metadata": {},
     "output_type": "execute_result"
    }
   ],
   "source": [
    "df.groupby('SCORE_DIGITAL')['10/2021'].sum()"
   ]
  },
  {
   "cell_type": "code",
   "execution_count": 44,
   "id": "c0e6536e",
   "metadata": {},
   "outputs": [
    {
     "data": {
      "text/plain": [
       "<AxesSubplot:title={'center':'Score Digital'}, ylabel='10/2021'>"
      ]
     },
     "execution_count": 44,
     "metadata": {},
     "output_type": "execute_result"
    },
    {
     "data": {
      "image/png": "[encoded data removed]",
      "text/plain": [
       "<Figure size 432x288 with 1 Axes>"
      ]
     },
     "metadata": {},
     "output_type": "display_data"
    }
   ],
   "source": [
    "df.groupby('SCORE_DIGITAL')['10/2021'].sum().plot.pie(title=\"Score Digital\",autopct='%1.1f%%')"
   ]
  },
  {
   "cell_type": "code",
   "execution_count": null,
   "id": "16988603",
   "metadata": {},
   "outputs": [],
   "source": []
  }
 ],
 "metadata": {
  "kernelspec": {
   "display_name": "Python 3 (ipykernel)",
   "language": "python",
   "name": "python3"
  },
  "language_info": {
   "codemirror_mode": {
    "name": "ipython",
    "version": 3
   },
   "file_extension": ".py",
   "mimetype": "text/x-python",
   "name": "python",
   "nbconvert_exporter": "python",
   "pygments_lexer": "ipython3",
   "version": "3.9.7"
  }
 },
 "nbformat": 4,
 "nbformat_minor": 5
}
