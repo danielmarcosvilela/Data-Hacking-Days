{
 "cells": [
  {
   "cell_type": "code",
   "execution_count": 1,
   "id": "d299aa98",
   "metadata": {},
   "outputs": [],
   "source": [
    "import numpy as np\n",
    "import pandas as pd\n",
    "import matplotlib as mat\n",
    "import matplotlib.pyplot as plt\n",
    "import colorsys\n",
    "plt.style.use('seaborn-talk')\n",
    "import warnings\n",
    "warnings.filterwarnings(\"ignore\")\n",
    "%matplotlib inline"
   ]
  },
  {
   "cell_type": "code",
   "execution_count": 2,
   "id": "5f30d49b",
   "metadata": {},
   "outputs": [],
   "source": [
    "df = pd.read_csv('arquivos-de-dados_tb-base-atendimento.csv',error_bad_lines=False, sep=\",\")"
   ]
  },
  {
   "cell_type": "code",
   "execution_count": 3,
   "id": "fa891177",
   "metadata": {},
   "outputs": [
    {
     "data": {
      "text/html": [
       "<div>\n",
       "<style scoped>\n",
       "    .dataframe tbody tr th:only-of-type {\n",
       "        vertical-align: middle;\n",
       "    }\n",
       "\n",
       "    .dataframe tbody tr th {\n",
       "        vertical-align: top;\n",
       "    }\n",
       "\n",
       "    .dataframe thead th {\n",
       "        text-align: right;\n",
       "    }\n",
       "</style>\n",
       "<table border=\"1\" class=\"dataframe\">\n",
       "  <thead>\n",
       "    <tr style=\"text-align: right;\">\n",
       "      <th></th>\n",
       "      <th>NUMBERX</th>\n",
       "      <th>ATEN_DH_INIATEND</th>\n",
       "      <th>REDE_ID_EMPRS</th>\n",
       "      <th>CNAD_ID_CANAL</th>\n",
       "      <th>CANAL</th>\n",
       "    </tr>\n",
       "  </thead>\n",
       "  <tbody>\n",
       "    <tr>\n",
       "      <th>0</th>\n",
       "      <td>d5gDKqdQW8JsdmHm0LkkwPr0gzn6XPlv7iZuHbZsyCo=</td>\n",
       "      <td>2021-10-01</td>\n",
       "      <td>5</td>\n",
       "      <td>278</td>\n",
       "      <td>WHATSAPP</td>\n",
       "    </tr>\n",
       "    <tr>\n",
       "      <th>1</th>\n",
       "      <td>7dyRPE8C67S/I3vvd57Yd7glw+ZxxpVoWhsI/nYjnlE=</td>\n",
       "      <td>2021-10-01</td>\n",
       "      <td>5</td>\n",
       "      <td>278</td>\n",
       "      <td>WHATSAPP</td>\n",
       "    </tr>\n",
       "    <tr>\n",
       "      <th>2</th>\n",
       "      <td>7Phom4jOMmSe7+bn2hrgds86jbVon5Y9YFuVxBmawq8=</td>\n",
       "      <td>2021-10-01</td>\n",
       "      <td>5</td>\n",
       "      <td>278</td>\n",
       "      <td>WHATSAPP</td>\n",
       "    </tr>\n",
       "    <tr>\n",
       "      <th>3</th>\n",
       "      <td>m4wfJ+jdhnBeBGzSILmYD7LSRTYKuS6vetSkGkwf5Q8=</td>\n",
       "      <td>2021-10-01</td>\n",
       "      <td>5</td>\n",
       "      <td>278</td>\n",
       "      <td>WHATSAPP</td>\n",
       "    </tr>\n",
       "    <tr>\n",
       "      <th>4</th>\n",
       "      <td>uchkc9Qpo3AFEXcqgMJP9FTx1Vq1fj4GRYaY8M1A3Jw=</td>\n",
       "      <td>2021-10-01</td>\n",
       "      <td>5</td>\n",
       "      <td>278</td>\n",
       "      <td>WHATSAPP</td>\n",
       "    </tr>\n",
       "    <tr>\n",
       "      <th>...</th>\n",
       "      <td>...</td>\n",
       "      <td>...</td>\n",
       "      <td>...</td>\n",
       "      <td>...</td>\n",
       "      <td>...</td>\n",
       "    </tr>\n",
       "    <tr>\n",
       "      <th>504636</th>\n",
       "      <td>aJ3naegiyDV/5mJAEN3T/Gm54RCUrjz6ykm3JlcnTDs=</td>\n",
       "      <td>2021-10-31</td>\n",
       "      <td>5</td>\n",
       "      <td>220</td>\n",
       "      <td>APP</td>\n",
       "    </tr>\n",
       "    <tr>\n",
       "      <th>504637</th>\n",
       "      <td>lqDahPMUYsOneuV6JGvCVDO5+FPrYwf2rCQwX9ht3TM=</td>\n",
       "      <td>2021-10-31</td>\n",
       "      <td>5</td>\n",
       "      <td>220</td>\n",
       "      <td>APP</td>\n",
       "    </tr>\n",
       "    <tr>\n",
       "      <th>504638</th>\n",
       "      <td>sY5fH3MmrfNuOkDzdjOe1XhPLD9SgRhyBDoXRiYoo0Q=</td>\n",
       "      <td>2021-10-31</td>\n",
       "      <td>5</td>\n",
       "      <td>220</td>\n",
       "      <td>APP</td>\n",
       "    </tr>\n",
       "    <tr>\n",
       "      <th>504639</th>\n",
       "      <td>XrTgo116fAau8IpnHCq37BI+WAbDwnjX+qvdTur27P0=</td>\n",
       "      <td>2021-10-31</td>\n",
       "      <td>5</td>\n",
       "      <td>220</td>\n",
       "      <td>APP</td>\n",
       "    </tr>\n",
       "    <tr>\n",
       "      <th>504640</th>\n",
       "      <td>RYCZ4TqYNoOl4TeL5vn0zn/+JK8jwWVlVhv7alktkmk=</td>\n",
       "      <td>2021-10-31</td>\n",
       "      <td>5</td>\n",
       "      <td>220</td>\n",
       "      <td>APP</td>\n",
       "    </tr>\n",
       "  </tbody>\n",
       "</table>\n",
       "<p>504641 rows × 5 columns</p>\n",
       "</div>"
      ],
      "text/plain": [
       "                                             NUMBERX ATEN_DH_INIATEND  \\\n",
       "0       d5gDKqdQW8JsdmHm0LkkwPr0gzn6XPlv7iZuHbZsyCo=       2021-10-01   \n",
       "1       7dyRPE8C67S/I3vvd57Yd7glw+ZxxpVoWhsI/nYjnlE=       2021-10-01   \n",
       "2       7Phom4jOMmSe7+bn2hrgds86jbVon5Y9YFuVxBmawq8=       2021-10-01   \n",
       "3       m4wfJ+jdhnBeBGzSILmYD7LSRTYKuS6vetSkGkwf5Q8=       2021-10-01   \n",
       "4       uchkc9Qpo3AFEXcqgMJP9FTx1Vq1fj4GRYaY8M1A3Jw=       2021-10-01   \n",
       "...                                              ...              ...   \n",
       "504636  aJ3naegiyDV/5mJAEN3T/Gm54RCUrjz6ykm3JlcnTDs=       2021-10-31   \n",
       "504637  lqDahPMUYsOneuV6JGvCVDO5+FPrYwf2rCQwX9ht3TM=       2021-10-31   \n",
       "504638  sY5fH3MmrfNuOkDzdjOe1XhPLD9SgRhyBDoXRiYoo0Q=       2021-10-31   \n",
       "504639  XrTgo116fAau8IpnHCq37BI+WAbDwnjX+qvdTur27P0=       2021-10-31   \n",
       "504640  RYCZ4TqYNoOl4TeL5vn0zn/+JK8jwWVlVhv7alktkmk=       2021-10-31   \n",
       "\n",
       "        REDE_ID_EMPRS  CNAD_ID_CANAL     CANAL  \n",
       "0                   5            278  WHATSAPP  \n",
       "1                   5            278  WHATSAPP  \n",
       "2                   5            278  WHATSAPP  \n",
       "3                   5            278  WHATSAPP  \n",
       "4                   5            278  WHATSAPP  \n",
       "...               ...            ...       ...  \n",
       "504636              5            220       APP  \n",
       "504637              5            220       APP  \n",
       "504638              5            220       APP  \n",
       "504639              5            220       APP  \n",
       "504640              5            220       APP  \n",
       "\n",
       "[504641 rows x 5 columns]"
      ]
     },
     "execution_count": 3,
     "metadata": {},
     "output_type": "execute_result"
    }
   ],
   "source": [
    "df"
   ]
  },
  {
   "cell_type": "code",
   "execution_count": 4,
   "id": "ff5a34c8",
   "metadata": {},
   "outputs": [
    {
     "data": {
      "text/plain": [
       "NUMBERX             object\n",
       "ATEN_DH_INIATEND    object\n",
       "REDE_ID_EMPRS        int64\n",
       "CNAD_ID_CANAL        int64\n",
       "CANAL               object\n",
       "dtype: object"
      ]
     },
     "execution_count": 4,
     "metadata": {},
     "output_type": "execute_result"
    }
   ],
   "source": [
    "df.dtypes"
   ]
  },
  {
   "cell_type": "code",
   "execution_count": 5,
   "id": "779227e0",
   "metadata": {},
   "outputs": [],
   "source": [
    "df = df.rename(columns={\"NUMBERX\":\"NUMERO_CONTA\", \"ATEN_DH_INIATEND\": \"DATA_ATENDIMENTO\"})"
   ]
  },
  {
   "cell_type": "code",
   "execution_count": 6,
   "id": "75f8f1a6",
   "metadata": {},
   "outputs": [
    {
     "data": {
      "text/html": [
       "<div>\n",
       "<style scoped>\n",
       "    .dataframe tbody tr th:only-of-type {\n",
       "        vertical-align: middle;\n",
       "    }\n",
       "\n",
       "    .dataframe tbody tr th {\n",
       "        vertical-align: top;\n",
       "    }\n",
       "\n",
       "    .dataframe thead th {\n",
       "        text-align: right;\n",
       "    }\n",
       "</style>\n",
       "<table border=\"1\" class=\"dataframe\">\n",
       "  <thead>\n",
       "    <tr style=\"text-align: right;\">\n",
       "      <th></th>\n",
       "      <th>NUMERO_CONTA</th>\n",
       "      <th>DATA_ATENDIMENTO</th>\n",
       "      <th>REDE_ID_EMPRS</th>\n",
       "      <th>CNAD_ID_CANAL</th>\n",
       "      <th>CANAL</th>\n",
       "    </tr>\n",
       "  </thead>\n",
       "  <tbody>\n",
       "    <tr>\n",
       "      <th>0</th>\n",
       "      <td>d5gDKqdQW8JsdmHm0LkkwPr0gzn6XPlv7iZuHbZsyCo=</td>\n",
       "      <td>2021-10-01</td>\n",
       "      <td>5</td>\n",
       "      <td>278</td>\n",
       "      <td>WHATSAPP</td>\n",
       "    </tr>\n",
       "    <tr>\n",
       "      <th>1</th>\n",
       "      <td>7dyRPE8C67S/I3vvd57Yd7glw+ZxxpVoWhsI/nYjnlE=</td>\n",
       "      <td>2021-10-01</td>\n",
       "      <td>5</td>\n",
       "      <td>278</td>\n",
       "      <td>WHATSAPP</td>\n",
       "    </tr>\n",
       "    <tr>\n",
       "      <th>2</th>\n",
       "      <td>7Phom4jOMmSe7+bn2hrgds86jbVon5Y9YFuVxBmawq8=</td>\n",
       "      <td>2021-10-01</td>\n",
       "      <td>5</td>\n",
       "      <td>278</td>\n",
       "      <td>WHATSAPP</td>\n",
       "    </tr>\n",
       "    <tr>\n",
       "      <th>3</th>\n",
       "      <td>m4wfJ+jdhnBeBGzSILmYD7LSRTYKuS6vetSkGkwf5Q8=</td>\n",
       "      <td>2021-10-01</td>\n",
       "      <td>5</td>\n",
       "      <td>278</td>\n",
       "      <td>WHATSAPP</td>\n",
       "    </tr>\n",
       "    <tr>\n",
       "      <th>4</th>\n",
       "      <td>uchkc9Qpo3AFEXcqgMJP9FTx1Vq1fj4GRYaY8M1A3Jw=</td>\n",
       "      <td>2021-10-01</td>\n",
       "      <td>5</td>\n",
       "      <td>278</td>\n",
       "      <td>WHATSAPP</td>\n",
       "    </tr>\n",
       "    <tr>\n",
       "      <th>...</th>\n",
       "      <td>...</td>\n",
       "      <td>...</td>\n",
       "      <td>...</td>\n",
       "      <td>...</td>\n",
       "      <td>...</td>\n",
       "    </tr>\n",
       "    <tr>\n",
       "      <th>504636</th>\n",
       "      <td>aJ3naegiyDV/5mJAEN3T/Gm54RCUrjz6ykm3JlcnTDs=</td>\n",
       "      <td>2021-10-31</td>\n",
       "      <td>5</td>\n",
       "      <td>220</td>\n",
       "      <td>APP</td>\n",
       "    </tr>\n",
       "    <tr>\n",
       "      <th>504637</th>\n",
       "      <td>lqDahPMUYsOneuV6JGvCVDO5+FPrYwf2rCQwX9ht3TM=</td>\n",
       "      <td>2021-10-31</td>\n",
       "      <td>5</td>\n",
       "      <td>220</td>\n",
       "      <td>APP</td>\n",
       "    </tr>\n",
       "    <tr>\n",
       "      <th>504638</th>\n",
       "      <td>sY5fH3MmrfNuOkDzdjOe1XhPLD9SgRhyBDoXRiYoo0Q=</td>\n",
       "      <td>2021-10-31</td>\n",
       "      <td>5</td>\n",
       "      <td>220</td>\n",
       "      <td>APP</td>\n",
       "    </tr>\n",
       "    <tr>\n",
       "      <th>504639</th>\n",
       "      <td>XrTgo116fAau8IpnHCq37BI+WAbDwnjX+qvdTur27P0=</td>\n",
       "      <td>2021-10-31</td>\n",
       "      <td>5</td>\n",
       "      <td>220</td>\n",
       "      <td>APP</td>\n",
       "    </tr>\n",
       "    <tr>\n",
       "      <th>504640</th>\n",
       "      <td>RYCZ4TqYNoOl4TeL5vn0zn/+JK8jwWVlVhv7alktkmk=</td>\n",
       "      <td>2021-10-31</td>\n",
       "      <td>5</td>\n",
       "      <td>220</td>\n",
       "      <td>APP</td>\n",
       "    </tr>\n",
       "  </tbody>\n",
       "</table>\n",
       "<p>504641 rows × 5 columns</p>\n",
       "</div>"
      ],
      "text/plain": [
       "                                        NUMERO_CONTA DATA_ATENDIMENTO  \\\n",
       "0       d5gDKqdQW8JsdmHm0LkkwPr0gzn6XPlv7iZuHbZsyCo=       2021-10-01   \n",
       "1       7dyRPE8C67S/I3vvd57Yd7glw+ZxxpVoWhsI/nYjnlE=       2021-10-01   \n",
       "2       7Phom4jOMmSe7+bn2hrgds86jbVon5Y9YFuVxBmawq8=       2021-10-01   \n",
       "3       m4wfJ+jdhnBeBGzSILmYD7LSRTYKuS6vetSkGkwf5Q8=       2021-10-01   \n",
       "4       uchkc9Qpo3AFEXcqgMJP9FTx1Vq1fj4GRYaY8M1A3Jw=       2021-10-01   \n",
       "...                                              ...              ...   \n",
       "504636  aJ3naegiyDV/5mJAEN3T/Gm54RCUrjz6ykm3JlcnTDs=       2021-10-31   \n",
       "504637  lqDahPMUYsOneuV6JGvCVDO5+FPrYwf2rCQwX9ht3TM=       2021-10-31   \n",
       "504638  sY5fH3MmrfNuOkDzdjOe1XhPLD9SgRhyBDoXRiYoo0Q=       2021-10-31   \n",
       "504639  XrTgo116fAau8IpnHCq37BI+WAbDwnjX+qvdTur27P0=       2021-10-31   \n",
       "504640  RYCZ4TqYNoOl4TeL5vn0zn/+JK8jwWVlVhv7alktkmk=       2021-10-31   \n",
       "\n",
       "        REDE_ID_EMPRS  CNAD_ID_CANAL     CANAL  \n",
       "0                   5            278  WHATSAPP  \n",
       "1                   5            278  WHATSAPP  \n",
       "2                   5            278  WHATSAPP  \n",
       "3                   5            278  WHATSAPP  \n",
       "4                   5            278  WHATSAPP  \n",
       "...               ...            ...       ...  \n",
       "504636              5            220       APP  \n",
       "504637              5            220       APP  \n",
       "504638              5            220       APP  \n",
       "504639              5            220       APP  \n",
       "504640              5            220       APP  \n",
       "\n",
       "[504641 rows x 5 columns]"
      ]
     },
     "execution_count": 6,
     "metadata": {},
     "output_type": "execute_result"
    }
   ],
   "source": [
    "df"
   ]
  },
  {
   "cell_type": "code",
   "execution_count": 7,
   "id": "30f4d0cb",
   "metadata": {},
   "outputs": [
    {
     "data": {
      "text/plain": [
       "NUMERO_CONTA        object\n",
       "DATA_ATENDIMENTO    object\n",
       "REDE_ID_EMPRS        int64\n",
       "CNAD_ID_CANAL        int64\n",
       "CANAL               object\n",
       "dtype: object"
      ]
     },
     "execution_count": 7,
     "metadata": {},
     "output_type": "execute_result"
    }
   ],
   "source": [
    "df.dtypes"
   ]
  },
  {
   "cell_type": "code",
   "execution_count": 8,
   "id": "ebe8101b",
   "metadata": {},
   "outputs": [
    {
     "data": {
      "text/plain": [
       "CANAL\n",
       "APP         105244040\n",
       "CENTRAL       3570667\n",
       "PORTAL        1660830\n",
       "URA               282\n",
       "WHATSAPP      1113668\n",
       "Name: CNAD_ID_CANAL, dtype: int64"
      ]
     },
     "execution_count": 8,
     "metadata": {},
     "output_type": "execute_result"
    }
   ],
   "source": [
    "df.groupby('CANAL')['CNAD_ID_CANAL'].sum()"
   ]
  },
  {
   "cell_type": "code",
   "execution_count": 14,
   "id": "fab320c3",
   "metadata": {},
   "outputs": [
    {
     "data": {
      "image/png": "[encoded data removed]",
      "text/plain": [
       "<Figure size 432x288 with 1 Axes>"
      ]
     },
     "metadata": {
      "needs_background": "light"
     },
     "output_type": "display_data"
    }
   ],
   "source": [
    "df.groupby(\"CANAL\")[\"CNAD_ID_CANAL\"].sum().sort_values(ascending=True).plot.bar(title=\"ATENDIMENTOS\")\n",
    "plt.xlabel(\"CNAD_ID_CANAL\")\n",
    "plt.ylabel(\"CANAL\");"
   ]
  },
  {
   "cell_type": "code",
   "execution_count": null,
   "id": "1f82fb82",
   "metadata": {},
   "outputs": [],
   "source": []
  },
  {
   "cell_type": "code",
   "execution_count": null,
   "id": "e86a5d7f",
   "metadata": {},
   "outputs": [],
   "source": []
  },
  {
   "cell_type": "code",
   "execution_count": null,
   "id": "fad55bea",
   "metadata": {},
   "outputs": [],
   "source": []
  },
  {
   "cell_type": "code",
   "execution_count": null,
   "id": "99db03df",
   "metadata": {},
   "outputs": [],
   "source": []
  }
 ],
 "metadata": {
  "kernelspec": {
   "display_name": "Python 3 (ipykernel)",
   "language": "python",
   "name": "python3"
  },
  "language_info": {
   "codemirror_mode": {
    "name": "ipython",
    "version": 3
   },
   "file_extension": ".py",
   "mimetype": "text/x-python",
   "name": "python",
   "nbconvert_exporter": "python",
   "pygments_lexer": "ipython3",
   "version": "3.9.7"
  }
 },
 "nbformat": 4,
 "nbformat_minor": 5
}
